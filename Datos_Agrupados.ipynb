{
  "nbformat": 4,
  "nbformat_minor": 0,
  "metadata": {
    "colab": {
      "provenance": [],
      "include_colab_link": true
    },
    "kernelspec": {
      "name": "python3",
      "display_name": "Python 3"
    },
    "language_info": {
      "name": "python"
    }
  },
  "cells": [
    {
      "cell_type": "markdown",
      "metadata": {
        "id": "view-in-github",
        "colab_type": "text"
      },
      "source": [
        "<a href=\"https://colab.research.google.com/github/bioqu/bioqu/blob/main/Datos_Agrupados.ipynb\" target=\"_parent\"><img src=\"https://colab.research.google.com/assets/colab-badge.svg\" alt=\"Open In Colab\"/></a>"
      ]
    },
    {
      "cell_type": "code",
      "execution_count": null,
      "metadata": {
        "id": "cTrUYooEuSkr"
      },
      "outputs": [],
      "source": [
        "### Ejecutar --> click\n",
        "import numpy as np\n",
        "import pandas as pd"
      ]
    },
    {
      "cell_type": "code",
      "source": [
        "# Modificar\n",
        "#### Llenar los datos y ejecutar --> click\n",
        "min=  #Límite inferior del primer intervalo\n",
        "max=      #Límite superior del último intervalo o el que se ajuste\n",
        "filas=     # Número de filas"
      ],
      "metadata": {
        "id": "yy4LeJLtubyU"
      },
      "execution_count": null,
      "outputs": []
    },
    {
      "cell_type": "code",
      "source": [
        "### Ejecutar --> click\n",
        "intervalo=pd.interval_range(min, max, filas, closed='left', name='Intervalos')"
      ],
      "metadata": {
        "id": "3ZnhX8dcuWj7"
      },
      "execution_count": null,
      "outputs": []
    },
    {
      "cell_type": "code",
      "source": [
        "### Ejecutar --> click    \n",
        "intervalo"
      ],
      "metadata": {
        "id": "FGQ74sLYusSE"
      },
      "execution_count": null,
      "outputs": []
    },
    {
      "cell_type": "code",
      "source": [
        "### Ejecutar --> click  (Ver si coincide con la columna de intervalos)\n",
        "Tabla=pd.DataFrame(intervalo)    \n",
        "print(Tabla)"
      ],
      "metadata": {
        "id": "zjDJnPlGuvZj"
      },
      "execution_count": null,
      "outputs": []
    },
    {
      "cell_type": "code",
      "source": [
        "#####   Llenar con los valores de la otra columna, separe con coma.\n",
        "Tabla['Frecuencia']=[]\n",
        "Tabla  #        (importante el orden) Luego ejecutar --> click"
      ],
      "metadata": {
        "id": "m5VRg4iHu1zs"
      },
      "execution_count": null,
      "outputs": []
    },
    {
      "cell_type": "code",
      "source": [
        "##### Ejecutar --> click\n",
        "n=Tabla['Frecuencia'].sum()\n",
        "n "
      ],
      "metadata": {
        "id": "gNq5pZwiw2as"
      },
      "execution_count": null,
      "outputs": []
    },
    {
      "cell_type": "code",
      "source": [
        "##### Ejecutar --> click\n",
        "Tabla['Marca']=intervalo.mid \n",
        "print(Tabla)"
      ],
      "metadata": {
        "id": "wjejTY7AvM3t"
      },
      "execution_count": null,
      "outputs": []
    },
    {
      "cell_type": "code",
      "source": [
        "###     Media o promedio\n",
        "##### Ejecutar --> click\n",
        "Tabla['fm']=Tabla['Frecuencia']*Tabla['Marca']\n",
        "media=Tabla['fm'].sum()/n\n",
        "print('Media:', media)"
      ],
      "metadata": {
        "id": "V02ZWFO9wdj4"
      },
      "execution_count": null,
      "outputs": []
    },
    {
      "cell_type": "code",
      "source": [
        "#### Tamaño de la muestra\n",
        "print('Tamaño muestra:',n)"
      ],
      "metadata": {
        "id": "NqyBbM4X3Ya4"
      },
      "execution_count": null,
      "outputs": []
    },
    {
      "cell_type": "code",
      "source": [
        "#####   Varianza\n",
        "##### Ejecutar --> click\n",
        "Tabla['fmm']=Tabla['fm']*Tabla['Marca']\n",
        "varianza=(Tabla['fmm'].sum()-n*media**2)/(n-1)\n",
        "print('Varianza:', varianza)"
      ],
      "metadata": {
        "id": "821zpmKZxmD_"
      },
      "execution_count": null,
      "outputs": []
    },
    {
      "cell_type": "code",
      "source": [
        "###### Desviación estándar o desviación típica\n",
        "##### Ejecutar --> click\n",
        "des=np.sqrt(varianza)\n",
        "print('Desviación estándar:', des)"
      ],
      "metadata": {
        "id": "dvzlSbZvx1GI"
      },
      "execution_count": null,
      "outputs": []
    }
  ]
}