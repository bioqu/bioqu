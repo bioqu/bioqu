{
  "nbformat": 4,
  "nbformat_minor": 0,
  "metadata": {
    "colab": {
      "provenance": [],
      "include_colab_link": true
    },
    "kernelspec": {
      "name": "python3",
      "display_name": "Python 3"
    },
    "language_info": {
      "name": "python"
    }
  },
  "cells": [
    {
      "cell_type": "markdown",
      "metadata": {
        "id": "view-in-github",
        "colab_type": "text"
      },
      "source": [
        "<a href=\"https://colab.research.google.com/github/bioqu/bioqu/blob/main/Copia_de_Clase_S08.ipynb\" target=\"_parent\"><img src=\"https://colab.research.google.com/assets/colab-badge.svg\" alt=\"Open In Colab\"/></a>"
      ]
    },
    {
      "cell_type": "markdown",
      "source": [
        "**Problema 01**\n",
        "Se encuentra que la concentración promedio de zinc que se obtiene a partir de una muestra de mediciones de zinc en 36 sitios diferentes es \n",
        "2.6 gramos por mililitro. Suponiendo que la desviación estándar de la población es 0.3, determine"
      ],
      "metadata": {
        "id": "YR_zKZ0SoRMJ"
      }
    },
    {
      "cell_type": "markdown",
      "source": [
        "a) El intervalo de confianza de 95% para la concentración media de zinc en el río. "
      ],
      "metadata": {
        "id": "vvhZ72Nsqa8G"
      }
    },
    {
      "cell_type": "code",
      "source": [
        "import numpy as np\n",
        "import scipy.stats as ss"
      ],
      "metadata": {
        "id": "o0CJOsxL9ZwY"
      },
      "execution_count": null,
      "outputs": []
    },
    {
      "cell_type": "code",
      "source": [
        "####  Llenar los datos y ejecutar --> click\n",
        "alpha=0.05      # Nivel de significancia\n",
        "n=36            # Tamaño de la muestra\n",
        "media=2.6    # Media o promedio de la muestra\n",
        "desv_poblacional=0.3   # Desviación estándar o típica de la población\n",
        "#############\n",
        "#############\n",
        "#############\n",
        "z_critico=ss.norm.ppf(1-alpha/2)\n",
        "z_critico\n",
        "Limite_inf=media-z_critico*desv_poblacional/np.sqrt(n)\n",
        "print('Límite inferior:',Limite_inf)\n",
        "Limite_sup=media+z_critico*desv_poblacional/np.sqrt(n)\n",
        "print('Límite superior:',Limite_sup)\n",
        "print('Intervalo de confianza:',[Limite_inf,Limite_sup])"
      ],
      "metadata": {
        "colab": {
          "base_uri": "https://localhost:8080/"
        },
        "id": "jl7-IguL9Xat",
        "outputId": "2c104e30-3011-477a-90dc-cc1800845907"
      },
      "execution_count": null,
      "outputs": [
        {
          "output_type": "stream",
          "name": "stdout",
          "text": [
            "Límite inferior: 2.502001800772997\n",
            "Límite superior: 2.697998199227003\n",
            "Intervalo de confianza: [2.502001800772997, 2.697998199227003]\n"
          ]
        }
      ]
    },
    {
      "cell_type": "markdown",
      "source": [
        "**Resultado:** El intervalo de confianza de 95% para la concentración media de zinc en el río es de 2.50 a 2.70 gramos por mililitro."
      ],
      "metadata": {
        "id": "Ols28rrI91VH"
      }
    },
    {
      "cell_type": "markdown",
      "source": [
        "b) El error que se comete al estimar un intervalo de confianza para la media con un nivel de significancia de 0.01.\n"
      ],
      "metadata": {
        "id": "i82eam_CM56M"
      }
    },
    {
      "cell_type": "markdown",
      "source": [
        "\n",
        "c)¿Qué tan grande se requiere una muestra si queremos tener 95%\n",
        "de confianza de que nuestra estimación de la media difiera por menos de 0.05?"
      ],
      "metadata": {
        "id": "Huw-k-xcM6yi"
      }
    },
    {
      "cell_type": "markdown",
      "source": [
        "**Problema 02** En una universidad se desea conocer la estatura (metros) promedio de sus estudiantes, para lo que se toma una muestra a 100 estudiantes, obteniendo los siguientes resultados:\n",
        "\\begin{array}{|c|c|}\n",
        "\\hline\n",
        "Estatura  & Frecuencia\\\\\n",
        "\\hline\n",
        "[1.52-1.60)&5\\\\\n",
        "\\hline\n",
        "[1.60-1.68)&18\\\\\n",
        "\\hline\n",
        "[1.68-1.76)&42\\\\\n",
        "\\hline\n",
        "[1.76-1.84)&27\\\\\n",
        "\\hline\n",
        "[1.84-1.92)&8\\\\\n",
        "\\hline\n",
        "\\end{array}\n"
      ],
      "metadata": {
        "id": "lV6jzsZJRodX"
      }
    },
    {
      "cell_type": "markdown",
      "source": [
        "a) Determine el intervalo de confianza de 95% para la verdadera estatura promedio de los estudiantes.\n",
        "\n"
      ],
      "metadata": {
        "id": "IEBXb9NASzUq"
      }
    },
    {
      "cell_type": "markdown",
      "source": [
        "b) Se piensa que la desviación estándar (típica) de las estaturas es mayor a 0.07 m. Realice una prueba de hipótesis y verifique. Considere un nivel de confianza del 95%."
      ],
      "metadata": {
        "id": "MZBFvJN3X19a"
      }
    },
    {
      "cell_type": "markdown",
      "source": [
        "c) Determine una prueba de hipótesis para la verdadera proporción de estudiantes cuya estatura supera 1.76 metros."
      ],
      "metadata": {
        "id": "vIvC06yXXwBZ"
      }
    },
    {
      "cell_type": "markdown",
      "source": [
        "# Prueba de bondad de ajuste\n",
        "\n",
        "El test de bondad de ajuste se utiliza para determinar si una colección de datos se ajusta a una\n",
        "distribución teórica de una determinada población. Nos dice si la muestra disponible representa o\n",
        "se ajusta de manera razonable a los datos que se esperan encontrar en la población.\n",
        "\n",
        "La fórmula para el cálculo del estadı́stico chi cuadrado utilizado en el test de bondad de ajuste es \n",
        "\n",
        "$\\chi^2_{prueba}=\\Sigma_i \\dfrac{(O_i-E_i)^2}{E_i} $\n",
        "\n",
        "$O_i:   \\ $Corresponde al valor observado.\n",
        "\n",
        "$Ei: \\ $Corresponde al valor esperado de la clase u observación i-ésima.\n",
        "\n",
        "**Formulación de la hipótesis**\n",
        "\n",
        "**H0:** Los datos se ajustan a una distribución dada.\n",
        "\n",
        "**H1:** Los datos no se ajustan a una distribución dada.\n",
        "\n",
        "**Valor crítico**: $\\chi^2_{1-\\alpha; k-1}$ donde $k$ es el número de clases\n",
        "\n",
        "**P_valor:** $P\\left(X>  \\chi^2_{prueba}\\right)$ \n",
        "\n",
        "**Función en python**:\n",
        "ss.chisquare(observado,esperado)\n",
        "\n"
      ],
      "metadata": {
        "id": "MPnvKFXs3Fgw"
      }
    },
    {
      "cell_type": "markdown",
      "source": [
        "**Problema 03** Las proporciones de tipos de sangre A, B, AB y O en la población de todos los caucasianos en Estados Unidos son 0.41, 0.10, 0.04 y 0.45, respectivamente. Para determinar si las proporciones poblacionales reales se ajustan o no se ajustan a este conjunto de probabilidades reportadas, se seleccionó una muestra de 200 estadounidenses y se registraron\n",
        "sus fenotipos sanguíneos. \n",
        "\\begin{array}{|c|c|c|c|c|}\n",
        "\\hline\n",
        "Tipo & A  &  B &  AB &0\\\\\n",
        "\\hline\n",
        "Observación  \\ O_i & 89  &  18 &  18 & 81\\\\\n",
        "\\hline\n",
        "\\end{array}\n",
        "\n",
        "Pruebe la bondad de ajuste de estas proporciones de fenotipo sanguíneas.\n"
      ],
      "metadata": {
        "id": "mz3NKd3R3aDQ"
      }
    },
    {
      "cell_type": "markdown",
      "source": [
        "**Problema 04:**  La señora Patricia Mora es la gerente de marketing de un fabricante de tarjetas deportivas. Ella planea iniciar la venta de una serie de tarjetas con fotografı́as y estadı́sticas de juego de ex jugadores de las ligas mayores de béisbol. Uno de los problemas es la selección de ex jugadores. En una exhibición de tarjetas de béisbol en Southwyck Mall el pasado fin de semana, instaló un puesto y ofreció tarjetas seis jugadores miembros del\n",
        "Salón de la Fama, así al final del dı́a vendió un total de 120 tarjetas. El número de tarjetas vendidas de cada jugador aparece en la siguiente tabla:\n",
        "\n",
        "\n",
        "\\begin{array}{|c|c|}\n",
        "\\hline\n",
        "Jugador & Tarjetas \\ \\  vendidas\\\\\n",
        "\\hline\n",
        "Tom \\ \\ Seaver & 13\\\\\n",
        "\\hline\n",
        "Nolan  \\ \\ Ryan & 33\\\\\n",
        "\\hline\n",
        "Ty  \\ \\  Cobb & 14\\\\\n",
        "\\hline\n",
        "George  \\ \\  Brett & 7\\\\\n",
        "\\hline\n",
        "Hank  \\ \\ Aaron & 36\\\\\n",
        "\\hline\n",
        "Johnny  \\ \\  Bench & 17\\\\\n",
        "\\hline\n",
        "Total & 120\\\\\n",
        "\\hline\n",
        "\\end{array}\n",
        "\n",
        "¿La señora Mora puede concluir que las ventas no son iguales por cada jugador? \n",
        "\n",
        "Considere $\\alpha = 0,05.$\n",
        "\n"
      ],
      "metadata": {
        "id": "e4I_x_BH3Ojo"
      }
    },
    {
      "cell_type": "markdown",
      "source": [
        "#Test de independencia chi-cuadrado\n",
        "\n",
        "\n",
        "La χ2 es una prueba de libre distribución (no paramétrica) que mide la diferencia o discrepancia\n",
        "entre una distribución de frecuencias observadas y esperadas. Sirve para estudiar la independen-\n",
        "cia de dos variables aleatorias.\n",
        "\n",
        "**Formulación de la hipótesis**\n",
        "\n",
        "**H0:** No hay relación entre las variables.\n",
        "\n",
        "**H1:** Hay relación entre las variables.\n",
        "\n",
        "**Estadístico de prueba** $\\chi^2_{prueba}=\\Sigma_i \\Sigma_j\\dfrac{(O_{ij}-E_{ij})^2}{E_{ij}} $\n",
        "\n",
        "\n",
        "**Valor crítico**: $\\chi^2_{1-\\alpha; (a-1)*(b-1)}$ donde $a$ es el número de filas y $b$ el número de columnas.\n",
        "\n",
        "**P_valor:** $P\\left(X>  \\chi^2_{prueba}\\right)$ \n",
        "\n",
        "**Función en python**:\n",
        "ss.chi2.contingency(observaciones)"
      ],
      "metadata": {
        "id": "wKIHf9VGu_o_"
      }
    },
    {
      "cell_type": "markdown",
      "source": [
        "**Problema 05:** Se encuestó a una muestra aleatoria de personas de todos los grupos socioeconómicos. De un listado de marcas de bebidas gaseosas, los encuestados debı́an elegir la de mayor preferencia (U, V o W). Los resultados con las frecuencias observadas de preferencias\n",
        "se muestran a continuación:\n",
        "\\begin{array}{|c|c|c|c|}\n",
        "\\hline\n",
        "Grupo  \\ O_i / Marca & U  &  V &  W \\\\\n",
        "\\hline\n",
        "ABC & 12  &  11 &  16 \\\\\n",
        "\\hline\n",
        "D & 9  &  6 &  3 \\\\\n",
        "\\hline\n",
        "E & 0  &  5 &  9 \\\\\n",
        "\\hline\n",
        "\\end{array}\n",
        "\n",
        "Verificar si la elección de la marca de bebida gaseosa está condicionada al nivel socioeconómico.\n",
        "\n",
        "Use una significancia del $5 \\%$.\n"
      ],
      "metadata": {
        "id": "YeTdDjKj33YH"
      }
    }
  ]
}