{
  "nbformat": 4,
  "nbformat_minor": 0,
  "metadata": {
    "colab": {
      "provenance": [],
      "include_colab_link": true
    },
    "kernelspec": {
      "name": "python3",
      "display_name": "Python 3"
    },
    "language_info": {
      "name": "python"
    }
  },
  "cells": [
    {
      "cell_type": "markdown",
      "metadata": {
        "id": "view-in-github",
        "colab_type": "text"
      },
      "source": [
        "<a href=\"https://colab.research.google.com/github/bioqu/bioqu/blob/main/Clase09.ipynb\" target=\"_parent\"><img src=\"https://colab.research.google.com/assets/colab-badge.svg\" alt=\"Open In Colab\"/></a>"
      ]
    },
    {
      "cell_type": "markdown",
      "source": [
        "### Introducción a la Econometría\n",
        "\n",
        "La econometría es una rama de la economía que utiliza métodos matemáticos y estadísticos junto\n",
        "con la programación lineal para analizar, interpretar y hacer predicciones sobre sistemas económicos. \n",
        "\n",
        "También lo podríamos considerar como un conjunto de técnicas para formular y validar modelos probabilisticos\n",
        "\n",
        "En términos literales econometría significa “medición económica”\n",
        "\n",
        "En el análisis social, podemos aplicar la econometría en el análisis de fenomenos económicos para crear un modelo formal y simplificado, obtener sus características principales, entender su comportamiento y conseguir soluciones a problemas que se generen en el fenomeno para luego hacer inferencia sobre situaciones relacionadas con el mismo.  \n"
      ],
      "metadata": {
        "id": "9BI4VjeJh2JE"
      }
    },
    {
      "cell_type": "markdown",
      "source": [
        "**Para construir un modelo requerimos:**\n",
        "\n",
        "\n",
        "1.   Comprender el fenomeno a modelar.\n",
        "2.   Conocer la teoría detras del fenomeno. \n",
        "3.    Establecer relaciones existentes entre las variables presentes en el fenomeno. (Crear un modelo).\n",
        "4.    Validar el modelo. Probar las relaciones planteadas en el modelo.\n",
        "\n",
        "**Relaciones funcionales**\n",
        "\n",
        "* Lineal\n",
        "\n",
        "  * Determinística: $y=\\beta_0+\\beta_1\\cdot x$  \n",
        "  *   Estocástica: $y=\\beta_0+\\beta_1\\cdot x + \\epsilon$\n",
        "\n",
        "* Cuadrática\n",
        "  *   $y=\\beta_0+\\beta_1\\cdot x_1+\\beta_2\\cdot x_1\\cdot x_2+\\beta_3\\cdot x_2^2$  \n",
        "* Exponencial\n",
        "  *   $y=\\beta_0\\cdot x_1^{\\beta_1}\\cdot x_2^{\\beta_2}$"
      ],
      "metadata": {
        "id": "qlZZ9BUVycQn"
      }
    },
    {
      "cell_type": "markdown",
      "source": [
        "### Consideremos el siguiente problema:\n",
        "\n",
        "Los estudiantes de último año de bachillerato, los de primer año de universidad, sus padres, así como la administración de una universidad están preocupados por el rendimiento académico de un estudiante después de haberse inscrito en la universidad.\n",
        "\n",
        "¿Se puede estimar o predecir el promedio de calificaciones de un estudiante (PCE) al terminar su primer año, antes de inscribirse en la universidad?\n",
        "\n",
        "Se espera que el rendimiento académico de un estudiante sea una función que dependa de las siguientes variables:\n",
        "\n",
        "*   Nivel general en el bachillerato\n",
        "*   Puntaje en la PAES\n",
        "*   Motivación del estudiante\n",
        "\n",
        "Nuestro objetivo principal es crear una **ecuación de predicción** que exprese y=(PCE) como función de estas variables independientes. \n",
        "\n",
        "Preguntas:\n",
        "¿cuáles variables deben usarse para hacer la predicción? ¿Qué tan fuerte es su relación con y? ¿Cómo se construye una buena ecuación de predicción para y como función de las variables seleccionadas para la predicción?\n",
        "\n"
      ],
      "metadata": {
        "id": "BO1ipfKQ3d1l"
      }
    },
    {
      "cell_type": "markdown",
      "source": [
        "### Datos observacionales\n",
        "La siguiente tabla muestra las calificaciones del examen de matemáticas de n=10 estudiantes de primer año de universidad, junto con sus calificaciones finales en cálculo.\n",
        "\n",
        "**CEM**:= Calificación del examen de matemáticas\n",
        "\n",
        "**PFC**:= Puntos finales en cálculo\n",
        "\n",
        "\\begin{array}{|c|c|c|}\n",
        "\\hline\n",
        "Estudiante  & CEM & PFC\\\\\n",
        "\\hline\n",
        "1&39&65\\\\\n",
        "\\hline\n",
        "2&43&78\\\\\n",
        "\\hline\n",
        "3&21&52\\\\\n",
        "\\hline\n",
        "4&64&82\\\\\n",
        "\\hline\n",
        "5&57&92\\\\\n",
        "\\hline\n",
        "6&47&89\\\\\n",
        "\\hline\n",
        "7&28&73\\\\\n",
        "\\hline\n",
        "8&75&98\\\\\n",
        "\\hline\n",
        "9&34&53\\\\\n",
        "\\hline\n",
        "10&52&75\\\\\n",
        "\\hline\n",
        "\\end{array}\n"
      ],
      "metadata": {
        "id": "QtJ4BoEs9ukt"
      }
    },
    {
      "cell_type": "code",
      "source": [
        "# Librerías\n",
        "import pandas as pd\n",
        "import matplotlib.pyplot as plt\n",
        "import numpy as np\n",
        "import seaborn as sns"
      ],
      "metadata": {
        "id": "3TyXCLMjp9rJ"
      },
      "execution_count": null,
      "outputs": []
    },
    {
      "cell_type": "code",
      "source": [
        "# Data\n",
        "data=pd.read_csv('calificaciones.csv')\n",
        "data"
      ],
      "metadata": {
        "colab": {
          "base_uri": "https://localhost:8080/",
          "height": 363
        },
        "id": "6_bMl52LqEas",
        "outputId": "a04f8b45-9f57-4b71-e295-24b11bc10dad"
      },
      "execution_count": null,
      "outputs": [
        {
          "output_type": "execute_result",
          "data": {
            "text/plain": [
              "   Estudiante  CEM  PFC\n",
              "0           1   39   65\n",
              "1           2   43   78\n",
              "2           3   21   52\n",
              "3           4   64   82\n",
              "4           5   57   92\n",
              "5           6   47   89\n",
              "6           7   28   73\n",
              "7           8   75   98\n",
              "8           9   34   56\n",
              "9          10   52   75"
            ],
            "text/html": [
              "\n",
              "  <div id=\"df-645c0165-4743-4ed7-957d-003059fe2995\">\n",
              "    <div class=\"colab-df-container\">\n",
              "      <div>\n",
              "<style scoped>\n",
              "    .dataframe tbody tr th:only-of-type {\n",
              "        vertical-align: middle;\n",
              "    }\n",
              "\n",
              "    .dataframe tbody tr th {\n",
              "        vertical-align: top;\n",
              "    }\n",
              "\n",
              "    .dataframe thead th {\n",
              "        text-align: right;\n",
              "    }\n",
              "</style>\n",
              "<table border=\"1\" class=\"dataframe\">\n",
              "  <thead>\n",
              "    <tr style=\"text-align: right;\">\n",
              "      <th></th>\n",
              "      <th>Estudiante</th>\n",
              "      <th>CEM</th>\n",
              "      <th>PFC</th>\n",
              "    </tr>\n",
              "  </thead>\n",
              "  <tbody>\n",
              "    <tr>\n",
              "      <th>0</th>\n",
              "      <td>1</td>\n",
              "      <td>39</td>\n",
              "      <td>65</td>\n",
              "    </tr>\n",
              "    <tr>\n",
              "      <th>1</th>\n",
              "      <td>2</td>\n",
              "      <td>43</td>\n",
              "      <td>78</td>\n",
              "    </tr>\n",
              "    <tr>\n",
              "      <th>2</th>\n",
              "      <td>3</td>\n",
              "      <td>21</td>\n",
              "      <td>52</td>\n",
              "    </tr>\n",
              "    <tr>\n",
              "      <th>3</th>\n",
              "      <td>4</td>\n",
              "      <td>64</td>\n",
              "      <td>82</td>\n",
              "    </tr>\n",
              "    <tr>\n",
              "      <th>4</th>\n",
              "      <td>5</td>\n",
              "      <td>57</td>\n",
              "      <td>92</td>\n",
              "    </tr>\n",
              "    <tr>\n",
              "      <th>5</th>\n",
              "      <td>6</td>\n",
              "      <td>47</td>\n",
              "      <td>89</td>\n",
              "    </tr>\n",
              "    <tr>\n",
              "      <th>6</th>\n",
              "      <td>7</td>\n",
              "      <td>28</td>\n",
              "      <td>73</td>\n",
              "    </tr>\n",
              "    <tr>\n",
              "      <th>7</th>\n",
              "      <td>8</td>\n",
              "      <td>75</td>\n",
              "      <td>98</td>\n",
              "    </tr>\n",
              "    <tr>\n",
              "      <th>8</th>\n",
              "      <td>9</td>\n",
              "      <td>34</td>\n",
              "      <td>56</td>\n",
              "    </tr>\n",
              "    <tr>\n",
              "      <th>9</th>\n",
              "      <td>10</td>\n",
              "      <td>52</td>\n",
              "      <td>75</td>\n",
              "    </tr>\n",
              "  </tbody>\n",
              "</table>\n",
              "</div>\n",
              "      <button class=\"colab-df-convert\" onclick=\"convertToInteractive('df-645c0165-4743-4ed7-957d-003059fe2995')\"\n",
              "              title=\"Convert this dataframe to an interactive table.\"\n",
              "              style=\"display:none;\">\n",
              "        \n",
              "  <svg xmlns=\"http://www.w3.org/2000/svg\" height=\"24px\"viewBox=\"0 0 24 24\"\n",
              "       width=\"24px\">\n",
              "    <path d=\"M0 0h24v24H0V0z\" fill=\"none\"/>\n",
              "    <path d=\"M18.56 5.44l.94 2.06.94-2.06 2.06-.94-2.06-.94-.94-2.06-.94 2.06-2.06.94zm-11 1L8.5 8.5l.94-2.06 2.06-.94-2.06-.94L8.5 2.5l-.94 2.06-2.06.94zm10 10l.94 2.06.94-2.06 2.06-.94-2.06-.94-.94-2.06-.94 2.06-2.06.94z\"/><path d=\"M17.41 7.96l-1.37-1.37c-.4-.4-.92-.59-1.43-.59-.52 0-1.04.2-1.43.59L10.3 9.45l-7.72 7.72c-.78.78-.78 2.05 0 2.83L4 21.41c.39.39.9.59 1.41.59.51 0 1.02-.2 1.41-.59l7.78-7.78 2.81-2.81c.8-.78.8-2.07 0-2.86zM5.41 20L4 18.59l7.72-7.72 1.47 1.35L5.41 20z\"/>\n",
              "  </svg>\n",
              "      </button>\n",
              "      \n",
              "  <style>\n",
              "    .colab-df-container {\n",
              "      display:flex;\n",
              "      flex-wrap:wrap;\n",
              "      gap: 12px;\n",
              "    }\n",
              "\n",
              "    .colab-df-convert {\n",
              "      background-color: #E8F0FE;\n",
              "      border: none;\n",
              "      border-radius: 50%;\n",
              "      cursor: pointer;\n",
              "      display: none;\n",
              "      fill: #1967D2;\n",
              "      height: 32px;\n",
              "      padding: 0 0 0 0;\n",
              "      width: 32px;\n",
              "    }\n",
              "\n",
              "    .colab-df-convert:hover {\n",
              "      background-color: #E2EBFA;\n",
              "      box-shadow: 0px 1px 2px rgba(60, 64, 67, 0.3), 0px 1px 3px 1px rgba(60, 64, 67, 0.15);\n",
              "      fill: #174EA6;\n",
              "    }\n",
              "\n",
              "    [theme=dark] .colab-df-convert {\n",
              "      background-color: #3B4455;\n",
              "      fill: #D2E3FC;\n",
              "    }\n",
              "\n",
              "    [theme=dark] .colab-df-convert:hover {\n",
              "      background-color: #434B5C;\n",
              "      box-shadow: 0px 1px 3px 1px rgba(0, 0, 0, 0.15);\n",
              "      filter: drop-shadow(0px 1px 2px rgba(0, 0, 0, 0.3));\n",
              "      fill: #FFFFFF;\n",
              "    }\n",
              "  </style>\n",
              "\n",
              "      <script>\n",
              "        const buttonEl =\n",
              "          document.querySelector('#df-645c0165-4743-4ed7-957d-003059fe2995 button.colab-df-convert');\n",
              "        buttonEl.style.display =\n",
              "          google.colab.kernel.accessAllowed ? 'block' : 'none';\n",
              "\n",
              "        async function convertToInteractive(key) {\n",
              "          const element = document.querySelector('#df-645c0165-4743-4ed7-957d-003059fe2995');\n",
              "          const dataTable =\n",
              "            await google.colab.kernel.invokeFunction('convertToInteractive',\n",
              "                                                     [key], {});\n",
              "          if (!dataTable) return;\n",
              "\n",
              "          const docLinkHtml = 'Like what you see? Visit the ' +\n",
              "            '<a target=\"_blank\" href=https://colab.research.google.com/notebooks/data_table.ipynb>data table notebook</a>'\n",
              "            + ' to learn more about interactive tables.';\n",
              "          element.innerHTML = '';\n",
              "          dataTable['output_type'] = 'display_data';\n",
              "          await google.colab.output.renderOutput(dataTable, element);\n",
              "          const docLink = document.createElement('div');\n",
              "          docLink.innerHTML = docLinkHtml;\n",
              "          element.appendChild(docLink);\n",
              "        }\n",
              "      </script>\n",
              "    </div>\n",
              "  </div>\n",
              "  "
            ]
          },
          "metadata": {},
          "execution_count": 6
        }
      ]
    },
    {
      "cell_type": "markdown",
      "source": [
        "Consideremos un **diagrama de dispersión** o nube de puntos. Se trata de una gŕafica en la que cada par $(x_i, y_i )$ está representado por un punto graficado en un sistema de coordenadas bidimencionales. También son llamadas gráficas bivariadas."
      ],
      "metadata": {
        "id": "nUdd4MNt932l"
      }
    },
    {
      "cell_type": "code",
      "source": [
        "# Diagrama de dispersión\n",
        "plt.figure(figsize=(3,3))\n",
        "sns.scatterplot(data=data, x='CEM', y='PFC')\n",
        "plt.show()"
      ],
      "metadata": {
        "colab": {
          "base_uri": "https://localhost:8080/",
          "height": 315
        },
        "id": "HUUM-GSkqG8f",
        "outputId": "74dc50be-b09f-4b02-db9b-70dc8e80c434"
      },
      "execution_count": null,
      "outputs": [
        {
          "output_type": "display_data",
          "data": {
            "text/plain": [
              "<Figure size 300x300 with 1 Axes>"
            ],
            "image/png": "[encoded data removed]"
          },
          "metadata": {}
        }
      ]
    },
    {
      "cell_type": "markdown",
      "source": [
        "Se empieza por suponer que la variable de interés, $y$, está linealmente relacionada a\n",
        "una variable independiente $x$. Para describir la relación lineal, se puede usar el modelo determinista   \n",
        "\n",
        "> $y=\\beta_0 + \\beta_1 x$\n",
        "\n",
        "$\\beta_0$:= es la intersección con el eje $y$.\n",
        "\n",
        "$\\beta_1$:= es la pendiente de la recta, definida como el cambio en $y$ para un cambio unitario en $x$.\n",
        "\n",
        "Este modelo describe una relación determinista entre la variable de interés $y$, a veces llamada **variable de respuesta**, y la variable independiente $x$, denominada **variable de pronóstico**.\n",
        "\n",
        "\n"
      ],
      "metadata": {
        "id": "KNUZwYzc-7Cg"
      }
    },
    {
      "cell_type": "code",
      "source": [
        "# Diagrama con recta ajustada\n",
        "plt.figure(figsize=(3,3))\n",
        "sns.lmplot(data=data, x='CEM', y='PFC')\n",
        "plt.show()"
      ],
      "metadata": {
        "colab": {
          "base_uri": "https://localhost:8080/",
          "height": 523
        },
        "id": "AITsC28lqQYe",
        "outputId": "094f0984-60f4-4ffd-e4a2-5b4bce5405a4"
      },
      "execution_count": null,
      "outputs": [
        {
          "output_type": "display_data",
          "data": {
            "text/plain": [
              "<Figure size 300x300 with 0 Axes>"
            ]
          },
          "metadata": {}
        },
        {
          "output_type": "display_data",
          "data": {
            "text/plain": [
              "<Figure size 500x500 with 1 Axes>"
            ],
            "image/png": "[encoded data removed]"
          },
          "metadata": {}
        }
      ]
    },
    {
      "cell_type": "markdown",
      "source": [
        "Una forma sencilla de modificar el modelo determinista es agregar un componente aleatorio de error para explicar las desviaciones de los puntos alrededor de la recta. Una respuesta particular $y$ se describe usando el modelo probabilístico\n",
        "$y=\\alpha + \\beta x+ \\epsilon$"
      ],
      "metadata": {
        "id": "cs-K9JWyKN4g"
      }
    },
    {
      "cell_type": "markdown",
      "source": [
        "#### MODELO DE REGRESIÓN LINEAL\n",
        "\n",
        "Qué busca el modelo de regresión lineal:\n",
        "\n",
        "$$ y = \\beta_0 + \\beta_1\\cdot x + \\epsilon$$\n",
        "\n",
        "donde:\n",
        "\n",
        "- $\\beta_0$: Coeficiente de posición.\n",
        "- $\\beta_1$: Pendiente.\n",
        "- $\\epsilon$: Error de estimación, es decir, la diferencia entre el valor real y el valor estimado.\n",
        "\n",
        "En los modelos de regresión, $\\epsilon$, debe cumplir con algunas condiciones:\n",
        "\n",
        "- normalidad -> Se debe distribuir de forma normal. \n",
        "- Varianza constante -> Se debe cumplir la homocedasticidad. \n",
        "- Independencia -> Los residuos deben ser independientes de los valores de $x$. "
      ],
      "metadata": {
        "id": "RroEuygeIZ7k"
      }
    },
    {
      "cell_type": "markdown",
      "source": [
        "Este modelo está creado para una población de mediciones que por general es desconocida, pero se puede usar la  información muestral para estimar los valores de $\\beta_0$ y $\\beta_1$, que son los coeficientes de la recta de medias. Estas estimaciones se usan para formar la recta de mejor ajuste para un conjunto de datos determinado, llamado **recta de mínimos cuadrados** o **recta de regresión**.\n",
        "\n",
        "[Método de los mínimos cuadrados](https://drive.google.com/file/d/17RoQaQ2rIeaAkwew7IfHWRug44sAH_FE/view?usp=sharing)\n",
        "\n",
        "\n",
        "$${\\hat{y}=\\hat{\\beta_0}+\\hat{\\beta_1}x}$$"
      ],
      "metadata": {
        "id": "aTZzkRvrIZ3F"
      }
    },
    {
      "cell_type": "markdown",
      "source": [
        "Las estimaciones de mínimos cuadrados de la ordenada al origen y la pendiente del modelo de regresión lineal simple son:\n",
        "\n",
        "\n",
        "**Estimación del coeficiente de posición:**\n",
        "\n",
        "$$\\hat{\\beta_0}=\\bar{y}-\\hat{\\beta_1}\\bar{x}$$\n",
        "\n",
        "**Estimación de la pendiente:**\n",
        "\n",
        "$S_{xy}=\\sum_{i=1}^{n}y_ix_i-\\dfrac{\\left(\\sum_{i=1}^{n}y_i\\right)\\left(\\sum_{i=1}^{n}x_i\\right)}{n}$\n",
        "\n",
        "$S_{xx}=\\sum_{i=1}^{n}x_i^{2}-\\dfrac{\\left(\\sum_{i=1}^{n}x_i\\right)^2}{n}$\n",
        "\n",
        "$$\\hat{\\beta_1}=\\dfrac{S_{xy}}{S_{xx}}$$"
      ],
      "metadata": {
        "id": "QpYdszApMYqZ"
      }
    },
    {
      "cell_type": "markdown",
      "source": [
        "[Cálculo para los datos de la tabla](https://drive.google.com/file/d/1VLR4hnBa7xLjsc822_wR_kJy1Iz8Oo-B/view?usp=share_link)"
      ],
      "metadata": {
        "id": "amOb3CxJQoGE"
      }
    },
    {
      "cell_type": "markdown",
      "source": [
        "Entonces:\n",
        "\n",
        "$$\\hat{\\beta_1}=\\dfrac{36854-\\dfrac{(460)(760)}{10}}{23634-\\dfrac{(460)^2 }{10}}=\\dfrac{1894}{2474}= 0.76556$$"
      ],
      "metadata": {
        "id": "3RlHSG3QRnmt"
      }
    },
    {
      "cell_type": "markdown",
      "source": [
        "$$\\hat{\\beta_0}=\\dfrac{760}{10}-(0.76556)\\left(\\dfrac{460}{10}\\right)=40.78424$$"
      ],
      "metadata": {
        "id": "PW4We_SpSX4L"
      }
    },
    {
      "cell_type": "markdown",
      "source": [
        "Así, La recta de regresión de mínimos cuadrados es entonces\n",
        "$$\\hat{y}=\\beta_0+\\beta_1x= 40.78424+0.76556x$$"
      ],
      "metadata": {
        "id": "xIRGo_mWSz7j"
      }
    },
    {
      "cell_type": "markdown",
      "source": [
        "Por ejemplo, si un alumno de primer año obtuvo $x=50$ puntos en el examen, la calificación pronosticada de cálculo del estudiante (usando precisión\n",
        "completa de decimales) es de:\n",
        "$$\\hat{y}_{x=50}=\\beta_0+\\beta_1(50)= 40.78424+0.76556(50)=79.06$$\n"
      ],
      "metadata": {
        "id": "r5MhgiXYTgMc"
      }
    },
    {
      "cell_type": "code",
      "source": [
        "# Data\n",
        "data"
      ],
      "metadata": {
        "colab": {
          "base_uri": "https://localhost:8080/",
          "height": 363
        },
        "id": "ka0WM-jAQCg5",
        "outputId": "e16806fa-a1ff-4d3d-af1c-bc493101daf3"
      },
      "execution_count": null,
      "outputs": [
        {
          "output_type": "execute_result",
          "data": {
            "text/plain": [
              "   Estudiante  CEM  PFC\n",
              "0           1   39   65\n",
              "1           2   43   78\n",
              "2           3   21   52\n",
              "3           4   64   82\n",
              "4           5   57   92\n",
              "5           6   47   89\n",
              "6           7   28   73\n",
              "7           8   75   98\n",
              "8           9   34   56\n",
              "9          10   52   75"
            ],
            "text/html": [
              "\n",
              "  <div id=\"df-f3d71f19-9973-4394-aa3b-18ccc160531c\">\n",
              "    <div class=\"colab-df-container\">\n",
              "      <div>\n",
              "<style scoped>\n",
              "    .dataframe tbody tr th:only-of-type {\n",
              "        vertical-align: middle;\n",
              "    }\n",
              "\n",
              "    .dataframe tbody tr th {\n",
              "        vertical-align: top;\n",
              "    }\n",
              "\n",
              "    .dataframe thead th {\n",
              "        text-align: right;\n",
              "    }\n",
              "</style>\n",
              "<table border=\"1\" class=\"dataframe\">\n",
              "  <thead>\n",
              "    <tr style=\"text-align: right;\">\n",
              "      <th></th>\n",
              "      <th>Estudiante</th>\n",
              "      <th>CEM</th>\n",
              "      <th>PFC</th>\n",
              "    </tr>\n",
              "  </thead>\n",
              "  <tbody>\n",
              "    <tr>\n",
              "      <th>0</th>\n",
              "      <td>1</td>\n",
              "      <td>39</td>\n",
              "      <td>65</td>\n",
              "    </tr>\n",
              "    <tr>\n",
              "      <th>1</th>\n",
              "      <td>2</td>\n",
              "      <td>43</td>\n",
              "      <td>78</td>\n",
              "    </tr>\n",
              "    <tr>\n",
              "      <th>2</th>\n",
              "      <td>3</td>\n",
              "      <td>21</td>\n",
              "      <td>52</td>\n",
              "    </tr>\n",
              "    <tr>\n",
              "      <th>3</th>\n",
              "      <td>4</td>\n",
              "      <td>64</td>\n",
              "      <td>82</td>\n",
              "    </tr>\n",
              "    <tr>\n",
              "      <th>4</th>\n",
              "      <td>5</td>\n",
              "      <td>57</td>\n",
              "      <td>92</td>\n",
              "    </tr>\n",
              "    <tr>\n",
              "      <th>5</th>\n",
              "      <td>6</td>\n",
              "      <td>47</td>\n",
              "      <td>89</td>\n",
              "    </tr>\n",
              "    <tr>\n",
              "      <th>6</th>\n",
              "      <td>7</td>\n",
              "      <td>28</td>\n",
              "      <td>73</td>\n",
              "    </tr>\n",
              "    <tr>\n",
              "      <th>7</th>\n",
              "      <td>8</td>\n",
              "      <td>75</td>\n",
              "      <td>98</td>\n",
              "    </tr>\n",
              "    <tr>\n",
              "      <th>8</th>\n",
              "      <td>9</td>\n",
              "      <td>34</td>\n",
              "      <td>56</td>\n",
              "    </tr>\n",
              "    <tr>\n",
              "      <th>9</th>\n",
              "      <td>10</td>\n",
              "      <td>52</td>\n",
              "      <td>75</td>\n",
              "    </tr>\n",
              "  </tbody>\n",
              "</table>\n",
              "</div>\n",
              "      <button class=\"colab-df-convert\" onclick=\"convertToInteractive('df-f3d71f19-9973-4394-aa3b-18ccc160531c')\"\n",
              "              title=\"Convert this dataframe to an interactive table.\"\n",
              "              style=\"display:none;\">\n",
              "        \n",
              "  <svg xmlns=\"http://www.w3.org/2000/svg\" height=\"24px\"viewBox=\"0 0 24 24\"\n",
              "       width=\"24px\">\n",
              "    <path d=\"M0 0h24v24H0V0z\" fill=\"none\"/>\n",
              "    <path d=\"M18.56 5.44l.94 2.06.94-2.06 2.06-.94-2.06-.94-.94-2.06-.94 2.06-2.06.94zm-11 1L8.5 8.5l.94-2.06 2.06-.94-2.06-.94L8.5 2.5l-.94 2.06-2.06.94zm10 10l.94 2.06.94-2.06 2.06-.94-2.06-.94-.94-2.06-.94 2.06-2.06.94z\"/><path d=\"M17.41 7.96l-1.37-1.37c-.4-.4-.92-.59-1.43-.59-.52 0-1.04.2-1.43.59L10.3 9.45l-7.72 7.72c-.78.78-.78 2.05 0 2.83L4 21.41c.39.39.9.59 1.41.59.51 0 1.02-.2 1.41-.59l7.78-7.78 2.81-2.81c.8-.78.8-2.07 0-2.86zM5.41 20L4 18.59l7.72-7.72 1.47 1.35L5.41 20z\"/>\n",
              "  </svg>\n",
              "      </button>\n",
              "      \n",
              "  <style>\n",
              "    .colab-df-container {\n",
              "      display:flex;\n",
              "      flex-wrap:wrap;\n",
              "      gap: 12px;\n",
              "    }\n",
              "\n",
              "    .colab-df-convert {\n",
              "      background-color: #E8F0FE;\n",
              "      border: none;\n",
              "      border-radius: 50%;\n",
              "      cursor: pointer;\n",
              "      display: none;\n",
              "      fill: #1967D2;\n",
              "      height: 32px;\n",
              "      padding: 0 0 0 0;\n",
              "      width: 32px;\n",
              "    }\n",
              "\n",
              "    .colab-df-convert:hover {\n",
              "      background-color: #E2EBFA;\n",
              "      box-shadow: 0px 1px 2px rgba(60, 64, 67, 0.3), 0px 1px 3px 1px rgba(60, 64, 67, 0.15);\n",
              "      fill: #174EA6;\n",
              "    }\n",
              "\n",
              "    [theme=dark] .colab-df-convert {\n",
              "      background-color: #3B4455;\n",
              "      fill: #D2E3FC;\n",
              "    }\n",
              "\n",
              "    [theme=dark] .colab-df-convert:hover {\n",
              "      background-color: #434B5C;\n",
              "      box-shadow: 0px 1px 3px 1px rgba(0, 0, 0, 0.15);\n",
              "      filter: drop-shadow(0px 1px 2px rgba(0, 0, 0, 0.3));\n",
              "      fill: #FFFFFF;\n",
              "    }\n",
              "  </style>\n",
              "\n",
              "      <script>\n",
              "        const buttonEl =\n",
              "          document.querySelector('#df-f3d71f19-9973-4394-aa3b-18ccc160531c button.colab-df-convert');\n",
              "        buttonEl.style.display =\n",
              "          google.colab.kernel.accessAllowed ? 'block' : 'none';\n",
              "\n",
              "        async function convertToInteractive(key) {\n",
              "          const element = document.querySelector('#df-f3d71f19-9973-4394-aa3b-18ccc160531c');\n",
              "          const dataTable =\n",
              "            await google.colab.kernel.invokeFunction('convertToInteractive',\n",
              "                                                     [key], {});\n",
              "          if (!dataTable) return;\n",
              "\n",
              "          const docLinkHtml = 'Like what you see? Visit the ' +\n",
              "            '<a target=\"_blank\" href=https://colab.research.google.com/notebooks/data_table.ipynb>data table notebook</a>'\n",
              "            + ' to learn more about interactive tables.';\n",
              "          element.innerHTML = '';\n",
              "          dataTable['output_type'] = 'display_data';\n",
              "          await google.colab.output.renderOutput(dataTable, element);\n",
              "          const docLink = document.createElement('div');\n",
              "          docLink.innerHTML = docLinkHtml;\n",
              "          element.appendChild(docLink);\n",
              "        }\n",
              "      </script>\n",
              "    </div>\n",
              "  </div>\n",
              "  "
            ]
          },
          "metadata": {},
          "execution_count": 10
        }
      ]
    },
    {
      "cell_type": "code",
      "source": [
        "## Para crear modelos lineales, necesitamos dos librerias.\n",
        "import statsmodels.formula.api as smf\n",
        "import statsmodels.api as sm"
      ],
      "metadata": {
        "id": "ezwpvoEeqXm4"
      },
      "execution_count": null,
      "outputs": []
    },
    {
      "cell_type": "code",
      "source": [
        "# Informe de regresión \n",
        "modelo=smf.ols('PFC~CEM', data=data).fit()\n",
        "print(modelo.summary())"
      ],
      "metadata": {
        "colab": {
          "base_uri": "https://localhost:8080/"
        },
        "id": "aVq9BOk6qr6g",
        "outputId": "0ca259e9-4206-4747-f781-19afbe62ab6c"
      },
      "execution_count": null,
      "outputs": [
        {
          "output_type": "stream",
          "name": "stdout",
          "text": [
            "                            OLS Regression Results                            \n",
            "==============================================================================\n",
            "Dep. Variable:                    PFC   R-squared:                       0.705\n",
            "Model:                            OLS   Adj. R-squared:                  0.668\n",
            "Method:                 Least Squares   F-statistic:                     19.14\n",
            "Date:                Thu, 11 May 2023   Prob (F-statistic):            0.00236\n",
            "Time:                        00:56:14   Log-Likelihood:                -34.711\n",
            "No. Observations:                  10   AIC:                             73.42\n",
            "Df Residuals:                       8   BIC:                             74.03\n",
            "Df Model:                           1                                         \n",
            "Covariance Type:            nonrobust                                         \n",
            "==============================================================================\n",
            "                 coef    std err          t      P>|t|      [0.025      0.975]\n",
            "------------------------------------------------------------------------------\n",
            "Intercept     40.7842      8.507      4.794      0.001      21.167      60.401\n",
            "CEM            0.7656      0.175      4.375      0.002       0.362       1.169\n",
            "==============================================================================\n",
            "Omnibus:                        2.120   Durbin-Watson:                   1.174\n",
            "Prob(Omnibus):                  0.346   Jarque-Bera (JB):                0.941\n",
            "Skew:                           0.295   Prob(JB):                        0.625\n",
            "Kurtosis:                       1.618   Cond. No.                         150.\n",
            "==============================================================================\n",
            "\n",
            "Notes:\n",
            "[1] Standard Errors assume that the covariance matrix of the errors is correctly specified.\n"
          ]
        },
        {
          "output_type": "stream",
          "name": "stderr",
          "text": [
            "/usr/local/lib/python3.10/dist-packages/scipy/stats/_stats_py.py:1736: UserWarning: kurtosistest only valid for n>=20 ... continuing anyway, n=10\n",
            "  warnings.warn(\"kurtosistest only valid for n>=20 ... continuing \"\n"
          ]
        }
      ]
    },
    {
      "cell_type": "markdown",
      "source": [
        "Recta de regresión estimada: $\\hat{y}=\\beta_0+\\beta_1\\cdot x=40.7842 +0.7656(x)$"
      ],
      "metadata": {
        "id": "USdngfliUHhW"
      }
    },
    {
      "cell_type": "code",
      "source": [
        "# Incluimos los valores predichos en la tabla \n",
        "Data_modelo=data[['CEM', 'PFC']]\n",
        "Data_modelo['Puntos_finales_pred']=40.7842+0.7656*Data_modelo['CEM']\n",
        "Data_modelo"
      ],
      "metadata": {
        "colab": {
          "base_uri": "https://localhost:8080/",
          "height": 363
        },
        "id": "qKTnIff6qx1o",
        "outputId": "4d5190f6-a961-45d4-ebbb-b0673fb7fe4c"
      },
      "execution_count": null,
      "outputs": [
        {
          "output_type": "execute_result",
          "data": {
            "text/plain": [
              "   CEM  PFC  Puntos_finales_pred\n",
              "0   39   65              70.6426\n",
              "1   43   78              73.7050\n",
              "2   21   52              56.8618\n",
              "3   64   82              89.7826\n",
              "4   57   92              84.4234\n",
              "5   47   89              76.7674\n",
              "6   28   73              62.2210\n",
              "7   75   98              98.2042\n",
              "8   34   56              66.8146\n",
              "9   52   75              80.5954"
            ],
            "text/html": [
              "\n",
              "  <div id=\"df-47d50894-c36b-4f89-ab3e-4363e58a2c25\">\n",
              "    <div class=\"colab-df-container\">\n",
              "      <div>\n",
              "<style scoped>\n",
              "    .dataframe tbody tr th:only-of-type {\n",
              "        vertical-align: middle;\n",
              "    }\n",
              "\n",
              "    .dataframe tbody tr th {\n",
              "        vertical-align: top;\n",
              "    }\n",
              "\n",
              "    .dataframe thead th {\n",
              "        text-align: right;\n",
              "    }\n",
              "</style>\n",
              "<table border=\"1\" class=\"dataframe\">\n",
              "  <thead>\n",
              "    <tr style=\"text-align: right;\">\n",
              "      <th></th>\n",
              "      <th>CEM</th>\n",
              "      <th>PFC</th>\n",
              "      <th>Puntos_finales_pred</th>\n",
              "    </tr>\n",
              "  </thead>\n",
              "  <tbody>\n",
              "    <tr>\n",
              "      <th>0</th>\n",
              "      <td>39</td>\n",
              "      <td>65</td>\n",
              "      <td>70.6426</td>\n",
              "    </tr>\n",
              "    <tr>\n",
              "      <th>1</th>\n",
              "      <td>43</td>\n",
              "      <td>78</td>\n",
              "      <td>73.7050</td>\n",
              "    </tr>\n",
              "    <tr>\n",
              "      <th>2</th>\n",
              "      <td>21</td>\n",
              "      <td>52</td>\n",
              "      <td>56.8618</td>\n",
              "    </tr>\n",
              "    <tr>\n",
              "      <th>3</th>\n",
              "      <td>64</td>\n",
              "      <td>82</td>\n",
              "      <td>89.7826</td>\n",
              "    </tr>\n",
              "    <tr>\n",
              "      <th>4</th>\n",
              "      <td>57</td>\n",
              "      <td>92</td>\n",
              "      <td>84.4234</td>\n",
              "    </tr>\n",
              "    <tr>\n",
              "      <th>5</th>\n",
              "      <td>47</td>\n",
              "      <td>89</td>\n",
              "      <td>76.7674</td>\n",
              "    </tr>\n",
              "    <tr>\n",
              "      <th>6</th>\n",
              "      <td>28</td>\n",
              "      <td>73</td>\n",
              "      <td>62.2210</td>\n",
              "    </tr>\n",
              "    <tr>\n",
              "      <th>7</th>\n",
              "      <td>75</td>\n",
              "      <td>98</td>\n",
              "      <td>98.2042</td>\n",
              "    </tr>\n",
              "    <tr>\n",
              "      <th>8</th>\n",
              "      <td>34</td>\n",
              "      <td>56</td>\n",
              "      <td>66.8146</td>\n",
              "    </tr>\n",
              "    <tr>\n",
              "      <th>9</th>\n",
              "      <td>52</td>\n",
              "      <td>75</td>\n",
              "      <td>80.5954</td>\n",
              "    </tr>\n",
              "  </tbody>\n",
              "</table>\n",
              "</div>\n",
              "      <button class=\"colab-df-convert\" onclick=\"convertToInteractive('df-47d50894-c36b-4f89-ab3e-4363e58a2c25')\"\n",
              "              title=\"Convert this dataframe to an interactive table.\"\n",
              "              style=\"display:none;\">\n",
              "        \n",
              "  <svg xmlns=\"http://www.w3.org/2000/svg\" height=\"24px\"viewBox=\"0 0 24 24\"\n",
              "       width=\"24px\">\n",
              "    <path d=\"M0 0h24v24H0V0z\" fill=\"none\"/>\n",
              "    <path d=\"M18.56 5.44l.94 2.06.94-2.06 2.06-.94-2.06-.94-.94-2.06-.94 2.06-2.06.94zm-11 1L8.5 8.5l.94-2.06 2.06-.94-2.06-.94L8.5 2.5l-.94 2.06-2.06.94zm10 10l.94 2.06.94-2.06 2.06-.94-2.06-.94-.94-2.06-.94 2.06-2.06.94z\"/><path d=\"M17.41 7.96l-1.37-1.37c-.4-.4-.92-.59-1.43-.59-.52 0-1.04.2-1.43.59L10.3 9.45l-7.72 7.72c-.78.78-.78 2.05 0 2.83L4 21.41c.39.39.9.59 1.41.59.51 0 1.02-.2 1.41-.59l7.78-7.78 2.81-2.81c.8-.78.8-2.07 0-2.86zM5.41 20L4 18.59l7.72-7.72 1.47 1.35L5.41 20z\"/>\n",
              "  </svg>\n",
              "      </button>\n",
              "      \n",
              "  <style>\n",
              "    .colab-df-container {\n",
              "      display:flex;\n",
              "      flex-wrap:wrap;\n",
              "      gap: 12px;\n",
              "    }\n",
              "\n",
              "    .colab-df-convert {\n",
              "      background-color: #E8F0FE;\n",
              "      border: none;\n",
              "      border-radius: 50%;\n",
              "      cursor: pointer;\n",
              "      display: none;\n",
              "      fill: #1967D2;\n",
              "      height: 32px;\n",
              "      padding: 0 0 0 0;\n",
              "      width: 32px;\n",
              "    }\n",
              "\n",
              "    .colab-df-convert:hover {\n",
              "      background-color: #E2EBFA;\n",
              "      box-shadow: 0px 1px 2px rgba(60, 64, 67, 0.3), 0px 1px 3px 1px rgba(60, 64, 67, 0.15);\n",
              "      fill: #174EA6;\n",
              "    }\n",
              "\n",
              "    [theme=dark] .colab-df-convert {\n",
              "      background-color: #3B4455;\n",
              "      fill: #D2E3FC;\n",
              "    }\n",
              "\n",
              "    [theme=dark] .colab-df-convert:hover {\n",
              "      background-color: #434B5C;\n",
              "      box-shadow: 0px 1px 3px 1px rgba(0, 0, 0, 0.15);\n",
              "      filter: drop-shadow(0px 1px 2px rgba(0, 0, 0, 0.3));\n",
              "      fill: #FFFFFF;\n",
              "    }\n",
              "  </style>\n",
              "\n",
              "      <script>\n",
              "        const buttonEl =\n",
              "          document.querySelector('#df-47d50894-c36b-4f89-ab3e-4363e58a2c25 button.colab-df-convert');\n",
              "        buttonEl.style.display =\n",
              "          google.colab.kernel.accessAllowed ? 'block' : 'none';\n",
              "\n",
              "        async function convertToInteractive(key) {\n",
              "          const element = document.querySelector('#df-47d50894-c36b-4f89-ab3e-4363e58a2c25');\n",
              "          const dataTable =\n",
              "            await google.colab.kernel.invokeFunction('convertToInteractive',\n",
              "                                                     [key], {});\n",
              "          if (!dataTable) return;\n",
              "\n",
              "          const docLinkHtml = 'Like what you see? Visit the ' +\n",
              "            '<a target=\"_blank\" href=https://colab.research.google.com/notebooks/data_table.ipynb>data table notebook</a>'\n",
              "            + ' to learn more about interactive tables.';\n",
              "          element.innerHTML = '';\n",
              "          dataTable['output_type'] = 'display_data';\n",
              "          await google.colab.output.renderOutput(dataTable, element);\n",
              "          const docLink = document.createElement('div');\n",
              "          docLink.innerHTML = docLinkHtml;\n",
              "          element.appendChild(docLink);\n",
              "        }\n",
              "      </script>\n",
              "    </div>\n",
              "  </div>\n",
              "  "
            ]
          },
          "metadata": {},
          "execution_count": 15
        }
      ]
    },
    {
      "cell_type": "code",
      "source": [
        "# Valores reales vs valores predichos\n",
        "sns.scatterplot(data=Data_modelo, x='CEM', y='PFC', label='Real');\n",
        "sns.scatterplot(data=Data_modelo, x='CEM', y='Puntos_finales_pred', color='red', label='Predicción')\n",
        "plt.legend()\n",
        "plt.show"
      ],
      "metadata": {
        "colab": {
          "base_uri": "https://localhost:8080/",
          "height": 468
        },
        "id": "qcMgPOMyqwdu",
        "outputId": "e23fd83b-7a47-40d9-c8aa-4f46a1a45dda"
      },
      "execution_count": null,
      "outputs": [
        {
          "output_type": "execute_result",
          "data": {
            "text/plain": [
              "<function matplotlib.pyplot.show(close=None, block=None)>"
            ]
          },
          "metadata": {},
          "execution_count": 16
        },
        {
          "output_type": "display_data",
          "data": {
            "text/plain": [
              "<Figure size 640x480 with 1 Axes>"
            ],
            "image/png": "[encoded data removed]"
          },
          "metadata": {}
        }
      ]
    },
    {
      "cell_type": "markdown",
      "source": [
        "En todos los modelos, tenemos que analizar los estadísticos globales e individuales:\n",
        "\n",
        "**Globales:**\n",
        "*   $R^2$\n",
        "*   $R^2$ ajustado.\n",
        "*   P_valor asociado al estadístico F. \n",
        "\n",
        "**Individuales:** \n",
        "*   Estudiar la significancia del modelo, es decir, si la variable es significativa para el modelo o simplemente la podemos descartar. \n",
        "*   P_valor asociado al estadístico t-student."
      ],
      "metadata": {
        "id": "sFBSZ2xgUG2J"
      }
    },
    {
      "cell_type": "markdown",
      "source": [
        "### Test de hipótesis sobre la variable CEM\n",
        "\n",
        "**Formulación de la hipótesis**\n",
        "\n",
        "**H0:** La variable CEM no es significativa\n",
        "\n",
        "**H1:** La variable CEM es significativa\n",
        "\n",
        "Comop el p_valor=0.002 es menor a alpha=0.05, se rechaza H0. Por lo tanto, con un 95% de confianza podemos asegurar que la variable CEM es significativa. "
      ],
      "metadata": {
        "id": "wfDv06hMoYmN"
      }
    },
    {
      "cell_type": "markdown",
      "source": [
        "### ¿Qué tan bien se ajusta el modelo de regresión?\n",
        "El **coeficiente de correlación** $r$ es una medida de dependencia lineal entre dos variables.\n",
        "\n",
        "$$r=\\dfrac{S_{xy}}{\\sqrt{S_{xx}\\cdot S_{yy}}}$$\n",
        "\n",
        "donde $-1\\leq r \\leq 1$.\n",
        "\n",
        "El **coeficiente de determinación** $r^2$ expresa la proporción de la variación total de los valores de la variable $y$ que son ocasionados o explicados por una relación lineal con los valores de la variable aleatoria $x$.\n",
        "\n",
        "  $$r^2=\\dfrac{(S_{xy})^2}{S_{xx}\\cdot S_{yy}}$$\n",
        "\n",
        "donde:\n",
        "\n",
        "$S_{yy}=\\sum_{i=1}^{n}y_i^{2}-\\dfrac{\\left(\\sum_{i=1}^{n}y_i\\right)^2}{n}$"
      ],
      "metadata": {
        "id": "Q-f0NWIopxAM"
      }
    },
    {
      "cell_type": "markdown",
      "source": [
        "**Ejemplo:** Calculemos el coeficiente de determinación y correlación en el problema de las calificaciones.\n",
        "\n",
        "$S_{yy}=\\sum_{i=1}^{n}y_i^{2}-\\dfrac{\\left(\\sum_{i=1}^{n}y_i\\right)^2}{n}=59816-\\dfrac{(760)^2}{10}=2056\n",
        "$\n",
        "\n",
        "**Coeficiente de correlación:**\n",
        "\n",
        "$r=\\dfrac{1894}{\\sqrt{2474*2056}}=0.8397$\n",
        "\n",
        "*Interpretación:* La relación lineal positiva es fuerte."
      ],
      "metadata": {
        "id": "Vsq7ag79zu8R"
      }
    },
    {
      "cell_type": "markdown",
      "source": [
        "**Coeficiente de determinación:**\n",
        "\n",
        "$r^2=\\dfrac{(1894)^2}{2474*2056}=0.7052$\n",
        "\n",
        "\n",
        "*Interpretación:* 0.7052 o 70.52% de la variación total de los valores de $y$ en muestra se debe a la relación lineal conlos valores de $x$. "
      ],
      "metadata": {
        "id": "jsk7Q8ngutIr"
      }
    },
    {
      "cell_type": "code",
      "source": [
        "# Estudio de los residuos\n",
        "Data_modelo['Residuos']=modelo.resid\n",
        "Data_modelo"
      ],
      "metadata": {
        "colab": {
          "base_uri": "https://localhost:8080/",
          "height": 363
        },
        "id": "AOMqoXpgtDW6",
        "outputId": "b0cfe4e2-4de4-45d6-984a-fbd1a9b7db10"
      },
      "execution_count": null,
      "outputs": [
        {
          "output_type": "execute_result",
          "data": {
            "text/plain": [
              "   CEM  PFC  Puntos_finales_pred   Residuos\n",
              "0   39   65              70.6426  -5.641067\n",
              "1   43   78              73.7050   4.296686\n",
              "2   21   52              56.8618  -4.860954\n",
              "3   64   82              89.7826  -7.780113\n",
              "4   57   92              84.4234   7.578820\n",
              "5   47   89              76.7674  12.234438\n",
              "6   28   73              62.2210  10.780113\n",
              "7   75   98              98.2042  -0.201293\n",
              "8   34   56              66.8146 -10.813258\n",
              "9   52   75              80.5954  -5.593371"
            ],
            "text/html": [
              "\n",
              "  <div id=\"df-161b97ce-d129-4c59-992d-30fa3a7f8726\">\n",
              "    <div class=\"colab-df-container\">\n",
              "      <div>\n",
              "<style scoped>\n",
              "    .dataframe tbody tr th:only-of-type {\n",
              "        vertical-align: middle;\n",
              "    }\n",
              "\n",
              "    .dataframe tbody tr th {\n",
              "        vertical-align: top;\n",
              "    }\n",
              "\n",
              "    .dataframe thead th {\n",
              "        text-align: right;\n",
              "    }\n",
              "</style>\n",
              "<table border=\"1\" class=\"dataframe\">\n",
              "  <thead>\n",
              "    <tr style=\"text-align: right;\">\n",
              "      <th></th>\n",
              "      <th>CEM</th>\n",
              "      <th>PFC</th>\n",
              "      <th>Puntos_finales_pred</th>\n",
              "      <th>Residuos</th>\n",
              "    </tr>\n",
              "  </thead>\n",
              "  <tbody>\n",
              "    <tr>\n",
              "      <th>0</th>\n",
              "      <td>39</td>\n",
              "      <td>65</td>\n",
              "      <td>70.6426</td>\n",
              "      <td>-5.641067</td>\n",
              "    </tr>\n",
              "    <tr>\n",
              "      <th>1</th>\n",
              "      <td>43</td>\n",
              "      <td>78</td>\n",
              "      <td>73.7050</td>\n",
              "      <td>4.296686</td>\n",
              "    </tr>\n",
              "    <tr>\n",
              "      <th>2</th>\n",
              "      <td>21</td>\n",
              "      <td>52</td>\n",
              "      <td>56.8618</td>\n",
              "      <td>-4.860954</td>\n",
              "    </tr>\n",
              "    <tr>\n",
              "      <th>3</th>\n",
              "      <td>64</td>\n",
              "      <td>82</td>\n",
              "      <td>89.7826</td>\n",
              "      <td>-7.780113</td>\n",
              "    </tr>\n",
              "    <tr>\n",
              "      <th>4</th>\n",
              "      <td>57</td>\n",
              "      <td>92</td>\n",
              "      <td>84.4234</td>\n",
              "      <td>7.578820</td>\n",
              "    </tr>\n",
              "    <tr>\n",
              "      <th>5</th>\n",
              "      <td>47</td>\n",
              "      <td>89</td>\n",
              "      <td>76.7674</td>\n",
              "      <td>12.234438</td>\n",
              "    </tr>\n",
              "    <tr>\n",
              "      <th>6</th>\n",
              "      <td>28</td>\n",
              "      <td>73</td>\n",
              "      <td>62.2210</td>\n",
              "      <td>10.780113</td>\n",
              "    </tr>\n",
              "    <tr>\n",
              "      <th>7</th>\n",
              "      <td>75</td>\n",
              "      <td>98</td>\n",
              "      <td>98.2042</td>\n",
              "      <td>-0.201293</td>\n",
              "    </tr>\n",
              "    <tr>\n",
              "      <th>8</th>\n",
              "      <td>34</td>\n",
              "      <td>56</td>\n",
              "      <td>66.8146</td>\n",
              "      <td>-10.813258</td>\n",
              "    </tr>\n",
              "    <tr>\n",
              "      <th>9</th>\n",
              "      <td>52</td>\n",
              "      <td>75</td>\n",
              "      <td>80.5954</td>\n",
              "      <td>-5.593371</td>\n",
              "    </tr>\n",
              "  </tbody>\n",
              "</table>\n",
              "</div>\n",
              "      <button class=\"colab-df-convert\" onclick=\"convertToInteractive('df-161b97ce-d129-4c59-992d-30fa3a7f8726')\"\n",
              "              title=\"Convert this dataframe to an interactive table.\"\n",
              "              style=\"display:none;\">\n",
              "        \n",
              "  <svg xmlns=\"http://www.w3.org/2000/svg\" height=\"24px\"viewBox=\"0 0 24 24\"\n",
              "       width=\"24px\">\n",
              "    <path d=\"M0 0h24v24H0V0z\" fill=\"none\"/>\n",
              "    <path d=\"M18.56 5.44l.94 2.06.94-2.06 2.06-.94-2.06-.94-.94-2.06-.94 2.06-2.06.94zm-11 1L8.5 8.5l.94-2.06 2.06-.94-2.06-.94L8.5 2.5l-.94 2.06-2.06.94zm10 10l.94 2.06.94-2.06 2.06-.94-2.06-.94-.94-2.06-.94 2.06-2.06.94z\"/><path d=\"M17.41 7.96l-1.37-1.37c-.4-.4-.92-.59-1.43-.59-.52 0-1.04.2-1.43.59L10.3 9.45l-7.72 7.72c-.78.78-.78 2.05 0 2.83L4 21.41c.39.39.9.59 1.41.59.51 0 1.02-.2 1.41-.59l7.78-7.78 2.81-2.81c.8-.78.8-2.07 0-2.86zM5.41 20L4 18.59l7.72-7.72 1.47 1.35L5.41 20z\"/>\n",
              "  </svg>\n",
              "      </button>\n",
              "      \n",
              "  <style>\n",
              "    .colab-df-container {\n",
              "      display:flex;\n",
              "      flex-wrap:wrap;\n",
              "      gap: 12px;\n",
              "    }\n",
              "\n",
              "    .colab-df-convert {\n",
              "      background-color: #E8F0FE;\n",
              "      border: none;\n",
              "      border-radius: 50%;\n",
              "      cursor: pointer;\n",
              "      display: none;\n",
              "      fill: #1967D2;\n",
              "      height: 32px;\n",
              "      padding: 0 0 0 0;\n",
              "      width: 32px;\n",
              "    }\n",
              "\n",
              "    .colab-df-convert:hover {\n",
              "      background-color: #E2EBFA;\n",
              "      box-shadow: 0px 1px 2px rgba(60, 64, 67, 0.3), 0px 1px 3px 1px rgba(60, 64, 67, 0.15);\n",
              "      fill: #174EA6;\n",
              "    }\n",
              "\n",
              "    [theme=dark] .colab-df-convert {\n",
              "      background-color: #3B4455;\n",
              "      fill: #D2E3FC;\n",
              "    }\n",
              "\n",
              "    [theme=dark] .colab-df-convert:hover {\n",
              "      background-color: #434B5C;\n",
              "      box-shadow: 0px 1px 3px 1px rgba(0, 0, 0, 0.15);\n",
              "      filter: drop-shadow(0px 1px 2px rgba(0, 0, 0, 0.3));\n",
              "      fill: #FFFFFF;\n",
              "    }\n",
              "  </style>\n",
              "\n",
              "      <script>\n",
              "        const buttonEl =\n",
              "          document.querySelector('#df-161b97ce-d129-4c59-992d-30fa3a7f8726 button.colab-df-convert');\n",
              "        buttonEl.style.display =\n",
              "          google.colab.kernel.accessAllowed ? 'block' : 'none';\n",
              "\n",
              "        async function convertToInteractive(key) {\n",
              "          const element = document.querySelector('#df-161b97ce-d129-4c59-992d-30fa3a7f8726');\n",
              "          const dataTable =\n",
              "            await google.colab.kernel.invokeFunction('convertToInteractive',\n",
              "                                                     [key], {});\n",
              "          if (!dataTable) return;\n",
              "\n",
              "          const docLinkHtml = 'Like what you see? Visit the ' +\n",
              "            '<a target=\"_blank\" href=https://colab.research.google.com/notebooks/data_table.ipynb>data table notebook</a>'\n",
              "            + ' to learn more about interactive tables.';\n",
              "          element.innerHTML = '';\n",
              "          dataTable['output_type'] = 'display_data';\n",
              "          await google.colab.output.renderOutput(dataTable, element);\n",
              "          const docLink = document.createElement('div');\n",
              "          docLink.innerHTML = docLinkHtml;\n",
              "          element.appendChild(docLink);\n",
              "        }\n",
              "      </script>\n",
              "    </div>\n",
              "  </div>\n",
              "  "
            ]
          },
          "metadata": {},
          "execution_count": 18
        }
      ]
    },
    {
      "cell_type": "code",
      "source": [
        "# Gráfica de los residuos\n",
        "plt.figure(figsize=(3,3))\n",
        "sns.histplot(data=Data_modelo, x='Residuos', kde=True)\n",
        "plt.title('Histograma de residuos')\n",
        "plt.show"
      ],
      "metadata": {
        "colab": {
          "base_uri": "https://localhost:8080/",
          "height": 350
        },
        "id": "d04O5Xxyd58c",
        "outputId": "3c939034-a081-42ce-c5c3-257fa77c1671"
      },
      "execution_count": null,
      "outputs": [
        {
          "output_type": "execute_result",
          "data": {
            "text/plain": [
              "<function matplotlib.pyplot.show(close=None, block=None)>"
            ]
          },
          "metadata": {},
          "execution_count": 19
        },
        {
          "output_type": "display_data",
          "data": {
            "text/plain": [
              "<Figure size 300x300 with 1 Axes>"
            ],
            "image/png": "[encoded data removed]"
          },
          "metadata": {}
        }
      ]
    }
  ]
}